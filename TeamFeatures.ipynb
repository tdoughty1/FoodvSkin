{
 "metadata": {
  "name": "",
  "signature": "sha256:ff4cd480933557c8b5cf90d261b6a7e8737f28c5f5e43340684bdb654010c051"
 },
 "nbformat": 3,
 "nbformat_minor": 0,
 "worksheets": [
  {
   "cells": [
    {
     "cell_type": "markdown",
     "metadata": {},
     "source": [
      "<h1 align=\"center\"><big><big><big>Food vs. Skin</big></big></big></h1> "
     ]
    },
    {
     "cell_type": "markdown",
     "metadata": {},
     "source": [
      "<h1><big>Goal</big></h1>\n",
      "<p><big><big>&nbsp; &nbsp; &nbsp; &nbsp;Automatically detect pictures with people in order to reject them for use on websites, etc.</big></big></p>"
     ]
    },
    {
     "cell_type": "markdown",
     "metadata": {},
     "source": [
      "<div style=\"text-align: center;\">\n",
      "    <table style=\"margin: 0px auto;\" border=\"0\">\n",
      "        <tbody>\n",
      "            <tr>\n",
      "                <td align='center'><big><big><big><big>Select</big></big></big></big></td>\n",
      "                <td align='center'><big><big><big><big>Reject</big></big></big></big></td>\n",
      "            </tr>\n",
      "            <tr>\n",
      "                <td align='center'><img src=\"Pizza.jpg\" height=\"450\" width=\"600\"></td>\n",
      "                <td align='center'><img src=\"Burger_Skin.jpg\" height=\"450\" width=\"600\"></td>\n",
      "            </tr>\n",
      "        </tbody>\n",
      "    </table>\n",
      "</div>"
     ]
    },
    {
     "cell_type": "markdown",
     "metadata": {},
     "source": [
      "<h1><big>How do you recognize skin</big></h1>\n",
      "\n",
      "<p><big>Take our cue from Human Vision</big></p>\n",
      "\n",
      "<ul>\n",
      "<li><big>Physical Shape - Probably requires 3D</big></li>\n",
      "<li><big>Texture</big></li>\n",
      "<li><big><b>Skin Color Tone</b></big></li>\n",
      "</ul>"
     ]
    },
    {
     "cell_type": "code",
     "collapsed": false,
     "input": [],
     "language": "python",
     "metadata": {},
     "outputs": []
    },
    {
     "cell_type": "code",
     "collapsed": false,
     "input": [
      "from skinmap import RGB_SkinMap, CbCr_SkinMap, CCCM_SkinMap\n",
      "from matplotlib import pyplot as plt\n",
      "from matplotlib import image as mpimg\n",
      "\n",
      "data1 = mpimg.imread('Burger_Skin.jpg')\n",
      "data2 = mpimg.imread('Pizza.jpg')\n",
      "\n",
      "skinMap1_1 = RGB_SkinMap(data1)\n",
      "skinMap1_2 = RGB_SkinMap(data2)\n",
      "\n",
      "skinMap2_1 = CbCr_SkinMap(data1)\n",
      "skinMap2_2 = CbCr_SkinMap(data2)\n",
      "\n",
      "skinMap3_1 = CCCM_SkinMap(data1)\n",
      "skinMap3_2 = CCCM_SkinMap(data2)"
     ],
     "language": "python",
     "metadata": {},
     "outputs": []
    },
    {
     "cell_type": "markdown",
     "metadata": {},
     "source": [
      "<h1><big>Image Processing</big></h1>\n",
      "\n",
      "<p><big>Remove noisy pixels</big></p>\n",
      "\n",
      "<ul>\n",
      "<li><big>Erosion</big></li>\n",
      "<li><big>Dilution</big></li>\n",
      "</ul>"
     ]
    },
    {
     "cell_type": "markdown",
     "metadata": {},
     "source": [
      "<h1><big>Feature Definition</big></h1>\n",
      "\n",
      "<p><big>Once we've cleaned the data we need to pull out the important features that we can use to identify pixels</big></p>\n",
      "\n",
      "<ul>\n",
      "<li><big>Blob Definition</big></li>\n",
      "<li><big>Convex Hull</big></li>\n",
      "</ul>"
     ]
    },
    {
     "cell_type": "markdown",
     "metadata": {},
     "source": [
      "<h1><big>Machine Learning</big></h1>\n",
      "<p><big>Once we've identified our features and created are training set, we can use Machine Learning techniques to create a classification model.  Current focus: <big><b>Decision Trees</b></big></big></p>\n",
      "\n",
      "<p><b><big>Advantages</big></b></p>\n",
      "<ul>\n",
      "<li><big>Simple to understand</big></li>\n",
      "<li><big>Capable of dealing with large numbers of features</big></li>\n",
      "<li><big>Frequently gives best out of the box performance</big></li>\n",
      "<li><big>Easily lends itself to ensemble methods, ie Boosted Decision Trees, Random Forest</big></li>\n",
      "</ul>\n",
      "\n",
      "<p><b><big>Disadvantages</big></b></p>\n",
      "<ul>\n",
      "<li><big><b>Susceptible to overtraining</b> - Pruning</big></li>\n",
      "<li><big><b>Susceptible to small changes in inputs</b> - Ensemble methods</big></li>\n",
      "</ul>"
     ]
    },
    {
     "cell_type": "code",
     "collapsed": false,
     "input": [],
     "language": "python",
     "metadata": {},
     "outputs": []
    }
   ],
   "metadata": {}
  }
 ]
}